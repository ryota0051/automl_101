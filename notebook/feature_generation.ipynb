{
 "cells": [
  {
   "cell_type": "code",
   "execution_count": 1,
   "id": "f9d1675e-4c14-423b-b1db-04f0832d4cd0",
   "metadata": {},
   "outputs": [],
   "source": [
    "%load_ext autoreload\n",
    "%autoreload 2\n",
    "\n",
    "import sys\n",
    "from pathlib import Path\n",
    "from datetime import datetime\n",
    "\n",
    "import pandas as pd\n",
    "\n",
    "sys.path.append('../')\n",
    "\n",
    "from src.feature_extract import get_train_and_test_df"
   ]
  },
  {
   "cell_type": "markdown",
   "id": "348eebe7-e023-4d82-8943-e9f1e0cbbaed",
   "metadata": {},
   "source": [
    "## 特徴量保存用ディレクトリ作成"
   ]
  },
  {
   "cell_type": "code",
   "execution_count": 75,
   "id": "24925416-10ec-4cc5-b643-d4482e6d2070",
   "metadata": {},
   "outputs": [],
   "source": [
    "dt_now = datetime.now()\n",
    "str_now = dt_now.strftime('%Y%m%d_%H%M%S')\n",
    "DST_DIR = Path('../dataset/preprocessed') / str_now\n",
    "DST_DIR.mkdir(parents=True)"
   ]
  },
  {
   "cell_type": "markdown",
   "id": "dc2b26f9-6dc5-414c-a204-37d3b6e0b98b",
   "metadata": {},
   "source": [
    "## データ読み込み、特徴量作成"
   ]
  },
  {
   "cell_type": "code",
   "execution_count": 76,
   "id": "05794673-cf6e-418c-9592-69d873df52cc",
   "metadata": {},
   "outputs": [
    {
     "name": "stdout",
     "output_type": "stream",
     "text": [
      "trainデータ情報\n",
      "<class 'pandas.core.frame.DataFrame'>\n",
      "RangeIndex: 891 entries, 0 to 890\n",
      "Data columns (total 12 columns):\n",
      " #   Column       Non-Null Count  Dtype\n",
      "---  ------       --------------  -----\n",
      " 0   PassengerId  891 non-null    int64\n",
      " 1   Survived     891 non-null    int64\n",
      " 2   Pclass       891 non-null    int64\n",
      " 3   Sex          891 non-null    int64\n",
      " 4   SibSp        891 non-null    int64\n",
      " 5   Parch        891 non-null    int64\n",
      " 6   Embarked     891 non-null    int64\n",
      " 7   FamilySize   891 non-null    int64\n",
      " 8   BoyOrFemale  891 non-null    int64\n",
      " 9   FareBin      891 non-null    int64\n",
      " 10  AgeBin       891 non-null    int64\n",
      " 11  Title        891 non-null    int64\n",
      "dtypes: int64(12)\n",
      "memory usage: 83.7 KB\n"
     ]
    },
    {
     "data": {
      "text/plain": [
       "None"
      ]
     },
     "metadata": {},
     "output_type": "display_data"
    },
    {
     "data": {
      "text/plain": [
       "PassengerId    0\n",
       "Survived       0\n",
       "Pclass         0\n",
       "Sex            0\n",
       "SibSp          0\n",
       "Parch          0\n",
       "Embarked       0\n",
       "FamilySize     0\n",
       "BoyOrFemale    0\n",
       "FareBin        0\n",
       "AgeBin         0\n",
       "Title          0\n",
       "dtype: int64"
      ]
     },
     "metadata": {},
     "output_type": "display_data"
    },
    {
     "name": "stdout",
     "output_type": "stream",
     "text": [
      "testデータ情報\n",
      "<class 'pandas.core.frame.DataFrame'>\n",
      "RangeIndex: 418 entries, 0 to 417\n",
      "Data columns (total 11 columns):\n",
      " #   Column       Non-Null Count  Dtype\n",
      "---  ------       --------------  -----\n",
      " 0   PassengerId  418 non-null    int64\n",
      " 1   Pclass       418 non-null    int64\n",
      " 2   Sex          418 non-null    int64\n",
      " 3   SibSp        418 non-null    int64\n",
      " 4   Parch        418 non-null    int64\n",
      " 5   Embarked     418 non-null    int64\n",
      " 6   FamilySize   418 non-null    int64\n",
      " 7   BoyOrFemale  418 non-null    int64\n",
      " 8   FareBin      418 non-null    int64\n",
      " 9   AgeBin       418 non-null    int64\n",
      " 10  Title        418 non-null    int64\n",
      "dtypes: int64(11)\n",
      "memory usage: 36.0 KB\n"
     ]
    },
    {
     "data": {
      "text/plain": [
       "None"
      ]
     },
     "metadata": {},
     "output_type": "display_data"
    },
    {
     "data": {
      "text/plain": [
       "PassengerId    0\n",
       "Pclass         0\n",
       "Sex            0\n",
       "SibSp          0\n",
       "Parch          0\n",
       "Embarked       0\n",
       "FamilySize     0\n",
       "BoyOrFemale    0\n",
       "FareBin        0\n",
       "AgeBin         0\n",
       "Title          0\n",
       "dtype: int64"
      ]
     },
     "metadata": {},
     "output_type": "display_data"
    }
   ],
   "source": [
    "train_df = pd.read_csv('../dataset/row/train.csv')\n",
    "test_df = pd.read_csv('../dataset/row/test.csv')\n",
    "\n",
    "train_df, test_df = get_train_and_test_df(train_df, test_df)\n",
    "\n",
    "print('trainデータ情報')\n",
    "display(train_df.info())\n",
    "display(train_df.isnull().sum())\n",
    "train_df.to_csv(\n",
    "    str(DST_DIR / 'train.csv'),\n",
    "    index=False\n",
    ")\n",
    "\n",
    "print('testデータ情報')\n",
    "display(test_df.info())\n",
    "display(test_df.isnull().sum())\n",
    "test_df.to_csv(\n",
    "    str(DST_DIR / 'test.csv'),\n",
    "    index=False\n",
    ")"
   ]
  },
  {
   "cell_type": "code",
   "execution_count": null,
   "id": "911b5345-2a89-41a6-bd97-108cb7951a1d",
   "metadata": {},
   "outputs": [],
   "source": []
  }
 ],
 "metadata": {
  "kernelspec": {
   "display_name": "Python 3 (ipykernel)",
   "language": "python",
   "name": "python3"
  },
  "language_info": {
   "codemirror_mode": {
    "name": "ipython",
    "version": 3
   },
   "file_extension": ".py",
   "mimetype": "text/x-python",
   "name": "python",
   "nbconvert_exporter": "python",
   "pygments_lexer": "ipython3",
   "version": "3.9.7"
  }
 },
 "nbformat": 4,
 "nbformat_minor": 5
}
